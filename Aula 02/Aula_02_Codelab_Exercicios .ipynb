{
  "nbformat": 4,
  "nbformat_minor": 0,
  "metadata": {
    "colab": {
      "name": "Aula_02_Codelab_Exercicios.ipynb",
      "provenance": [],
      "collapsed_sections": []
    },
    "kernelspec": {
      "name": "python3",
      "display_name": "Python 3"
    },
    "language_info": {
      "name": "python"
    }
  },
  "cells": [
    {
      "cell_type": "markdown",
      "metadata": {
        "id": "w1T7s2q0p-pt"
      },
      "source": [
        "# Mini projetos"
      ]
    },
    {
      "cell_type": "markdown",
      "metadata": {
        "id": "meUw7PTwqC-Y"
      },
      "source": [
        "## #01 - Conversor de moedas\n",
        "\n",
        "Crie um programa que solicite um um valor em real ao usuário e converta esse valor, para:\n",
        "\n",
        "- DOLAR,\n",
        "- EURO,\n",
        "- LIBRA ESTERLINA,\n",
        "- DÓLAR CANADENSE,\n",
        "- PESO ARGENTINO,\n",
        "- PESO CHILENO.\n",
        "\n",
        "Para esse exercício você precisará realizar uma pesquisa para saber a cotação de cada moeda em real. Mostrar o resultado no formato $ XXXX.XX"
      ]
    },
    {
      "cell_type": "code",
      "metadata": {
        "colab": {
          "base_uri": "https://localhost:8080/"
        },
        "id": "K8P785zuQujF",
        "outputId": "630edfbb-c827-4e8e-8c95-5950a72d32d4"
      },
      "source": [
        "# 01 - Conversor de moedas\n",
        "real = float(input('Qual é o valor em reais que você deseja converter? R$'))\n",
        "dolar = real/5.04\n",
        "euro = real/6.13\n",
        "libra = real/7.13\n",
        "dolar_cana = real/4.16\n",
        "peso_arg = real/0.053\n",
        "peso_chi = real/0.0070\n",
        "print(f'O valor que você tera convertendo R$ {real:.2f} para a moeda Dolar seria de US${dolar:.2f}')\n",
        "print(f'O valor que você tera convertendo R$ {real:.2f} para a moeda Euro seria € {euro:.2f}')\n",
        "print(f'O valor que você tera convertendo R$ {real:.2f} para a moeda Libra Esterlina seria £ {libra:.2f}')\n",
        "print(f'O valor que você tera convertendo R$ {real:.2f} para a moeda Dolar Canadense seria C$ {dolar_cana:.2f}')\n",
        "print(f'O valor que você tera convertendo R$ {real:.2f} para a moeda Peso Argentino seria $ {peso_arg:.2f}')\n",
        "print(f'O valor que você tera convertendo R$ {real:.2f} para a moeda Peso Chileno seria $ {peso_chi:.2f}')"
      ],
      "execution_count": 4,
      "outputs": [
        {
          "output_type": "stream",
          "text": [
            "Qual é o valor em reais que você deseja converter? R$8\n",
            "O valor que você tera convertendo R$ 8.00 para a moeda Dolar seria de US$1.59\n",
            "O valor que você tera convertendo R$ 8.00 para a moeda Euro seria € 1.31\n",
            "O valor que você tera convertendo R$ 8.00 para a moeda Libra Esterlina seria £ 1.12\n",
            "O valor que você tera convertendo R$ 8.00 para a moeda Dolar Canadense seria C$ 1.92\n",
            "O valor que você tera convertendo R$ 8.00 para a moeda Peso Argentino seria $ 150.94\n",
            "O valor que você tera convertendo R$ 8.00 para a moeda Peso Chileno seria $ 1142.86\n"
          ],
          "name": "stdout"
        }
      ]
    },
    {
      "cell_type": "markdown",
      "metadata": {
        "id": "KK9PIcJ4qIF9"
      },
      "source": [
        "## #02 - Calculadora de aumento de aluguel\n",
        "\n",
        "Vamos construir um programa que irá calcular o aumento anual do seu aluguel.\n",
        "\n",
        "A sua calculadora vai receber o `valor do aluguel` e calcular o aumento baseado no `IGPM de 31%`. A calculadora deve apresentar o aluguel reajustado no formato `R$ XXXX.XX`."
      ]
    },
    {
      "cell_type": "code",
      "metadata": {
        "id": "FVmRsKGVStfO"
      },
      "source": [
        "aluguel=float(input('Qual é o valor atual do aluguel? R$'))\n",
        "igpm=aluguel*0.31\n",
        "final=igpm+aluguel\n",
        "print(f'O novo valor do aluguel somando o 31% de IGPM é de R$ {final:.2f}')\n"
      ],
      "execution_count": null,
      "outputs": []
    }
  ]
}